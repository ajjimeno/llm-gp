{
 "cells": [
  {
   "cell_type": "markdown",
   "metadata": {},
   "source": [
    "# optimisatons for LLM generation"
   ]
  },
  {
   "cell_type": "code",
   "execution_count": 1,
   "metadata": {},
   "outputs": [
    {
     "name": "stderr",
     "output_type": "stream",
     "text": [
      "/home/pieter/anaconda3/envs/gp/lib/python3.10/site-packages/tqdm/auto.py:21: TqdmWarning: IProgress not found. Please update jupyter and ipywidgets. See https://ipywidgets.readthedocs.io/en/stable/user_install.html\n",
      "  from .autonotebook import tqdm as notebook_tqdm\n"
     ]
    }
   ],
   "source": [
    "from llm import Qwen\n",
    "from tqdm import tqdm\n",
    "import time\n",
    "import numpy as np"
   ]
  },
  {
   "cell_type": "code",
   "execution_count": null,
   "metadata": {},
   "outputs": [
    {
     "name": "stdout",
     "output_type": "stream",
     "text": [
      "attention is not specified. To change this set attribute attn\n",
      "using vllm as inference mechanism\n"
     ]
    },
    {
     "name": "stderr",
     "output_type": "stream",
     "text": [
      "2025-03-10 20:52:46,493\tINFO util.py:154 -- Missing packages: ['ipywidgets']. Run `pip install -U ipywidgets`, then restart the notebook server for rich notebook output.\n"
     ]
    },
    {
     "name": "stdout",
     "output_type": "stream",
     "text": [
      "INFO 03-10 20:52:48 __init__.py:207] Automatically detected platform cuda.\n",
      "WARNING 03-10 20:52:50 config.py:2448] Casting torch.bfloat16 to torch.float16.\n"
     ]
    }
   ],
   "source": [
    "model = Qwen(vllm=True)\n",
    "model"
   ]
  },
  {
   "cell_type": "code",
   "execution_count": null,
   "metadata": {},
   "outputs": [],
   "source": [
    "system = \"You are a data structure and algorithm expert. You are also an expert in python programming\"\n",
    "user = \"Generate a python program for dijkstra's algorithm\""
   ]
  },
  {
   "cell_type": "code",
   "execution_count": null,
   "metadata": {},
   "outputs": [],
   "source": [
    "model(system, user)"
   ]
  },
  {
   "cell_type": "code",
   "execution_count": null,
   "metadata": {},
   "outputs": [],
   "source": [
    "\n",
    "timings = []\n",
    "\n",
    "\n",
    "for n in tqdm(range(10)):\n",
    "    start = time.time()\n",
    "    model(system, user)\n",
    "    end = time.time()\n",
    "    duration = end - start\n",
    "    timings.append(duration)\n",
    "\n",
    "timings\n"
   ]
  },
  {
   "cell_type": "code",
   "execution_count": null,
   "metadata": {},
   "outputs": [],
   "source": [
    "def summary(timings):\n",
    "    print(f\"mean: {np.mean(timings)}\")\n",
    "    print(f\"median: {np.median(timings)}\")\n",
    "    print(f\"std: {np.std(timings)}\")\n"
   ]
  },
  {
   "cell_type": "code",
   "execution_count": null,
   "metadata": {},
   "outputs": [],
   "source": [
    "baseline = [15.129080295562744,\n",
    " 15.720300912857056,\n",
    " 19.821353912353516,\n",
    " 16.801652431488037,\n",
    " 15.112785339355469,\n",
    " 15.36365556716919,\n",
    " 23.151497840881348,\n",
    " 23.019291162490845,\n",
    " 22.601115465164185,\n",
    " 18.89482569694519]\n",
    "\n",
    "summary(baseline)\n"
   ]
  },
  {
   "cell_type": "code",
   "execution_count": null,
   "metadata": {},
   "outputs": [],
   "source": [
    "# kv_cache\n",
    "kv = [20.304307222366333,\n",
    " 12.694454908370972,\n",
    " 13.19345235824585,\n",
    " 13.327292442321777,\n",
    " 21.780697345733643,\n",
    " 17.99206781387329,\n",
    " 19.965080499649048,\n",
    " 23.245574712753296,\n",
    " 18.404191255569458,\n",
    " 16.01033854484558]\n",
    "\n",
    "summary(kv)"
   ]
  },
  {
   "cell_type": "code",
   "execution_count": null,
   "metadata": {},
   "outputs": [],
   "source": [
    "# do_sample\n",
    "\n",
    "kv = [20.304307222366333,\n",
    " 12.694454908370972,\n",
    " 13.19345235824585,\n",
    " 13.327292442321777,\n",
    " 21.780697345733643,\n",
    " 17.99206781387329,\n",
    " 19.965080499649048,\n",
    " 23.245574712753296,\n",
    " 18.404191255569458,\n",
    " 16.01033854484558]\n",
    "\n",
    "summary(kv)"
   ]
  },
  {
   "cell_type": "code",
   "execution_count": null,
   "metadata": {},
   "outputs": [],
   "source": [
    "do_sample = [17.019907236099243,\n",
    " 32.08466076850891,\n",
    " 16.29255437850952,\n",
    " 26.581018447875977,\n",
    " 17.966830253601074,\n",
    " 33.007309436798096,\n",
    " 33.01791763305664,\n",
    " 21.371530055999756,\n",
    " 21.834694385528564,\n",
    " 26.789570808410645]\n",
    "\n",
    "summary(do_sample)\n",
    "\n",
    "# Sampling does take longer\n",
    "\n",
    "#Compared to baseline\n",
    "# TtestResult(statistic=np.float64(-2.5633995416211652), pvalue=np.float64(0.01954406059593905), df=np.float64(18.0))"
   ]
  },
  {
   "cell_type": "code",
   "execution_count": null,
   "metadata": {},
   "outputs": [],
   "source": [
    "compile = [20.496086835861206,\n",
    " 26.187604188919067,\n",
    " 19.345702409744263,\n",
    " 26.974491119384766,\n",
    " 24.00583553314209,\n",
    " 32.89661765098572,\n",
    " 29.74660015106201,\n",
    " 22.171958208084106,\n",
    " 26.075289487838745,\n",
    " 25.507501363754272]\n",
    "\n",
    "summary(compile)"
   ]
  },
  {
   "cell_type": "code",
   "execution_count": null,
   "metadata": {},
   "outputs": [],
   "source": [
    "import scipy.stats as stats\n",
    "stats.ttest_ind(a=baseline, b=compile, equal_var=True)"
   ]
  },
  {
   "cell_type": "code",
   "execution_count": null,
   "metadata": {},
   "outputs": [],
   "source": []
  }
 ],
 "metadata": {
  "kernelspec": {
   "display_name": "gp",
   "language": "python",
   "name": "python3"
  },
  "language_info": {
   "codemirror_mode": {
    "name": "ipython",
    "version": 3
   },
   "file_extension": ".py",
   "mimetype": "text/x-python",
   "name": "python",
   "nbconvert_exporter": "python",
   "pygments_lexer": "ipython3",
   "version": "3.10.16"
  }
 },
 "nbformat": 4,
 "nbformat_minor": 2
}
